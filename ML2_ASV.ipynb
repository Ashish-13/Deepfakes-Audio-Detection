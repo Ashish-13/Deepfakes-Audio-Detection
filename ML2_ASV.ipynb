{
 "cells": [
  {
   "cell_type": "markdown",
   "metadata": {},
   "source": [
    "<h1><center>Fake Audio Detection</center></h1>"
   ]
  },
  {
   "cell_type": "markdown",
   "metadata": {},
   "source": [
    "## Importing all the necessary libraries"
   ]
  },
  {
   "cell_type": "code",
   "execution_count": 23,
   "metadata": {},
   "outputs": [],
   "source": [
    "import numpy as np\n",
    "import pandas as pd \n",
    "import os \n",
    "import glob\n",
    "import soundfile as sf\n",
    "import scipy.io.wavfile\n",
    "import scipy.signal as signal\n",
    "import matplotlib.pyplot as plt\n",
    "import pathlib\n",
    "import shutil\n",
    "import random\n",
    "\n",
    "from keras.models import Sequential\n",
    "from keras.callbacks import EarlyStopping, ReduceLROnPlateau\n",
    "from keras.layers import Conv2D, MaxPooling2D, Dropout, Flatten, Dense, Activation, BatchNormalization\n",
    "from keras.callbacks import ModelCheckpoint, EarlyStopping, TensorBoard\n",
    "import time\n",
    "from keras.preprocessing.image import ImageDataGenerator, load_img\n",
    "from keras.utils import to_categorical\n",
    "from sklearn.model_selection import train_test_split\n",
    "from sklearn import metrics"
   ]
  },
  {
   "cell_type": "markdown",
   "metadata": {},
   "source": [
    "## Set Path value to location where AVS_DATA is downloaded"
   ]
  },
  {
   "cell_type": "code",
   "execution_count": 20,
   "metadata": {},
   "outputs": [],
   "source": [
    "os.getcwd()\n",
    "\n",
    "Path = 'C:/Users/Ashish/Downloads' #change '\\' to '/' \n",
    "\n",
    "os.chdir(Path + '/AVS_Data') #changing current directory to Path/AVS_Data"
   ]
  },
  {
   "cell_type": "markdown",
   "metadata": {},
   "source": [
    "### Accessing the text file containing information on the audio type and using to it extract real and spoof audio."
   ]
  },
  {
   "cell_type": "code",
   "execution_count": null,
   "metadata": {},
   "outputs": [],
   "source": [
    "data = pd.read_csv('Audio.txt', sep=\" \", header=None)\n",
    "data.columns = [\"a\", \"FileName\", \"c\", \"FakeType\", 'Class']"
   ]
  },
  {
   "cell_type": "code",
   "execution_count": null,
   "metadata": {},
   "outputs": [],
   "source": [
    "data.to_csv('AudioData.csv')"
   ]
  },
  {
   "cell_type": "markdown",
   "metadata": {},
   "source": [
    "### Creating a new folder to store real audio files (files termed as bonafide)"
   ]
  },
  {
   "cell_type": "code",
   "execution_count": null,
   "metadata": {},
   "outputs": [],
   "source": [
    "data1 = data[data['FakeType']== '-']\n",
    "data1.shape"
   ]
  },
  {
   "cell_type": "code",
   "execution_count": null,
   "metadata": {},
   "outputs": [],
   "source": [
    "pathlib.Path(f'AudioData/Real').mkdir(parents=True, exist_ok=True)\n",
    "realaudio = data1['FileName']\n",
    "for file in realaudio:\n",
    "    file_name = os.path.join('flac/',file +'.flac')\n",
    "    if os.path.isfile(file_name):\n",
    "        shutil.copy(file_name, 'AudioData/Real')"
   ]
  },
  {
   "cell_type": "markdown",
   "metadata": {},
   "source": [
    "### Creating a folder for tts fake audio"
   ]
  },
  {
   "cell_type": "code",
   "execution_count": null,
   "metadata": {},
   "outputs": [],
   "source": [
    "data2 = data[data['FakeType'].isin(['A01','A02','A04', 'A07','A11'])] \n",
    "data2.shape"
   ]
  },
  {
   "cell_type": "code",
   "execution_count": null,
   "metadata": {},
   "outputs": [],
   "source": [
    "pathlib.Path(f'AudioData/Spoof_TTS').mkdir(parents=True, exist_ok=True)\n",
    "ttsaudio = data2['FileName']\n",
    "for file in ttsaudio:\n",
    "    file_name = os.path.join('flac/',file +'.flac')\n",
    "    if os.path.isfile(file_name):\n",
    "        shutil.copy(file_name, 'AudioData/Spoof_TTS')"
   ]
  },
  {
   "cell_type": "markdown",
   "metadata": {},
   "source": [
    "### Creating a folder for VC fake audio"
   ]
  },
  {
   "cell_type": "code",
   "execution_count": null,
   "metadata": {},
   "outputs": [],
   "source": [
    "data3 = data[data['FakeType'].isin(['A05','A06','A17','A18', 'A19'])] \n",
    "data3.shape"
   ]
  },
  {
   "cell_type": "code",
   "execution_count": null,
   "metadata": {},
   "outputs": [],
   "source": [
    "pathlib.Path(f'AudioData/Spoof_VC').mkdir(parents=True, exist_ok=True)\n",
    "vcaudio = data3['FileName']\n",
    "for file in vcaudio:\n",
    "    file_name = os.path.join('flac/',file +'.flac')\n",
    "    if os.path.isfile(file_name):\n",
    "        shutil.copy(file_name, 'AudioData/Spoof_VC')"
   ]
  },
  {
   "cell_type": "markdown",
   "metadata": {},
   "source": [
    "## Creating spectogram  and saving the generated images into Image Data folder"
   ]
  },
  {
   "cell_type": "markdown",
   "metadata": {},
   "source": [
    "### Spectogram of Real Audio data "
   ]
  },
  {
   "cell_type": "code",
   "execution_count": null,
   "metadata": {},
   "outputs": [],
   "source": [
    "pathlib.Path(f'ImageData/Real').mkdir(parents=True, exist_ok=True)\n",
    "for filename in os.listdir(f'AudioData/Real'):\n",
    "    y, sr = sf.read(f'AudioData/Real/{filename}')\n",
    "    plt.specgram(y,Fs=sr);\n",
    "    plt.axis('off');\n",
    "    plt.subplots_adjust(left=0, bottom=0, right=1, top=1, wspace=0, hspace=0);\n",
    "    plt.savefig(f'ImageData/Real/{filename[0:-5]}.png')\n",
    "    plt.clf()"
   ]
  },
  {
   "cell_type": "markdown",
   "metadata": {},
   "source": [
    "### Spectogram of TTS Fake Audio data "
   ]
  },
  {
   "cell_type": "code",
   "execution_count": null,
   "metadata": {},
   "outputs": [],
   "source": [
    "pathlib.Path(f'ImageData/Spoof_TTS').mkdir(parents=True, exist_ok=True)\n",
    "for filename in os.listdir(f'AudioData/Spoof_TTS'):\n",
    "    y, sr = sf.read(f'AudioData/Spoof_TTS/{filename}')\n",
    "    plt.specgram(y,Fs=sr);\n",
    "    plt.axis('off');\n",
    "    plt.subplots_adjust(left=0, bottom=0, right=1, top=1, wspace=0, hspace=0);\n",
    "    plt.savefig(f'ImageData/Spoof_TTS/{filename[0:-5]}.png')\n",
    "    plt.clf()"
   ]
  },
  {
   "cell_type": "markdown",
   "metadata": {},
   "source": [
    "### Spectogram of VC Fake Audio data "
   ]
  },
  {
   "cell_type": "code",
   "execution_count": 2,
   "metadata": {},
   "outputs": [
    {
     "data": {
      "text/plain": [
       "<Figure size 432x288 with 0 Axes>"
      ]
     },
     "metadata": {},
     "output_type": "display_data"
    }
   ],
   "source": [
    "pathlib.Path(f'ImageData/Spoof_VC').mkdir(parents=True, exist_ok=True)\n",
    "for filename in os.listdir(f'AudioData/Spoof_VC'):\n",
    "    y, sr = sf.read(f'AudioData/Spoof_VC/{filename}')\n",
    "    plt.specgram(y,Fs=sr);\n",
    "    plt.axis('off');\n",
    "    plt.subplots_adjust(left=0, bottom=0, right=1, top=1, wspace=0, hspace=0);\n",
    "    plt.savefig(f'ImageData/Spoof_VC/{filename[0:-5]}.png')\n",
    "    plt.clf()"
   ]
  },
  {
   "cell_type": "markdown",
   "metadata": {},
   "source": [
    "### Copying all Spectograms into one folder (Spectograms)"
   ]
  },
  {
   "cell_type": "code",
   "execution_count": 28,
   "metadata": {},
   "outputs": [],
   "source": [
    "pathlib.Path(f'Spectograms').mkdir(parents=True, exist_ok=True)\n",
    "for f in ('Real/', 'Spoof_TTS/', 'Spoof_VC/'):\n",
    "    for jpgfile in glob.iglob(os.path.join('ImageData/'+f, \"*.png\")):\n",
    "        shutil.copy(jpgfile, 'Spectograms')"
   ]
  },
  {
   "cell_type": "markdown",
   "metadata": {},
   "source": [
    "# Model Building"
   ]
  },
  {
   "cell_type": "markdown",
   "metadata": {},
   "source": [
    "## Image Parameters "
   ]
  },
  {
   "cell_type": "code",
   "execution_count": 2,
   "metadata": {},
   "outputs": [],
   "source": [
    "# Define Constants\n",
    "FAST_RUN = False\n",
    "IMAGE_WIDTH=128\n",
    "IMAGE_HEIGHT=128\n",
    "IMAGE_SIZE=(IMAGE_WIDTH, IMAGE_HEIGHT)\n",
    "IMAGE_CHANNELS=3"
   ]
  },
  {
   "cell_type": "markdown",
   "metadata": {},
   "source": [
    "### Creating a dataframe all the images and assigning them labels accordingly"
   ]
  },
  {
   "cell_type": "code",
   "execution_count": 3,
   "metadata": {},
   "outputs": [],
   "source": [
    "# Read the real and spoof spectrogram images from directory\n",
    "filename1 = os.listdir(\"ImageData/Real/\")\n",
    "filename2 = os.listdir(\"ImageData/Spoof_TTS/\")\n",
    "filename3 = os.listdir(\"ImageData/Spoof_VC/\")\n",
    "category1 = []\n",
    "category2 = []\n",
    "category3 = []"
   ]
  },
  {
   "cell_type": "code",
   "execution_count": 4,
   "metadata": {},
   "outputs": [
    {
     "name": "stdout",
     "output_type": "stream",
     "text": [
      "2580\n",
      "11400\n",
      "7600\n"
     ]
    }
   ],
   "source": [
    "# Check the length of the list\n",
    "print(len(filename1))\n",
    "print(len(filename2))\n",
    "print(len(filename3))"
   ]
  },
  {
   "cell_type": "code",
   "execution_count": 5,
   "metadata": {},
   "outputs": [],
   "source": [
    "# Shuffle the data randomly\n",
    "random.shuffle(filename1)\n",
    "random.shuffle(filename2)\n",
    "random.shuffle(filename3)"
   ]
  },
  {
   "cell_type": "code",
   "execution_count": 6,
   "metadata": {},
   "outputs": [],
   "source": [
    "# Get filename and assign label '0' for real images and stored in dataframe\n",
    "for filename in filename1:\n",
    "    category1.append(0)    \n",
    "df1 = pd.DataFrame({ 'filename': filename1,'category': category1 })    \n",
    "\n",
    "# Get filename and assign label '1' for TTS fake images and stored in dataframe\n",
    "for filename in filename2:\n",
    "    category2.append(1)    \n",
    "df2 = pd.DataFrame({ 'filename': filename2, 'category': category2 })\n",
    "\n",
    "# Get filename and assign label '2' for VC fake images and stored in dataframe\n",
    "for filename in filename3:\n",
    "    category3.append(2)    \n",
    "df3 = pd.DataFrame({ 'filename': filename3, 'category': category3 })"
   ]
  },
  {
   "cell_type": "code",
   "execution_count": 7,
   "metadata": {},
   "outputs": [],
   "source": [
    "# Combined the dataframes\n",
    "frames = [df1, df2, df3]\n",
    "df = pd.concat(frames)"
   ]
  },
  {
   "cell_type": "code",
   "execution_count": 8,
   "metadata": {},
   "outputs": [
    {
     "data": {
      "text/html": [
       "<div>\n",
       "<style scoped>\n",
       "    .dataframe tbody tr th:only-of-type {\n",
       "        vertical-align: middle;\n",
       "    }\n",
       "\n",
       "    .dataframe tbody tr th {\n",
       "        vertical-align: top;\n",
       "    }\n",
       "\n",
       "    .dataframe thead th {\n",
       "        text-align: right;\n",
       "    }\n",
       "</style>\n",
       "<table border=\"1\" class=\"dataframe\">\n",
       "  <thead>\n",
       "    <tr style=\"text-align: right;\">\n",
       "      <th></th>\n",
       "      <th>filename</th>\n",
       "      <th>category</th>\n",
       "    </tr>\n",
       "  </thead>\n",
       "  <tbody>\n",
       "    <tr>\n",
       "      <th>0</th>\n",
       "      <td>LA_T_2127844.png</td>\n",
       "      <td>0</td>\n",
       "    </tr>\n",
       "    <tr>\n",
       "      <th>1</th>\n",
       "      <td>LA_T_3913974.png</td>\n",
       "      <td>0</td>\n",
       "    </tr>\n",
       "    <tr>\n",
       "      <th>2</th>\n",
       "      <td>LA_T_2528047.png</td>\n",
       "      <td>0</td>\n",
       "    </tr>\n",
       "    <tr>\n",
       "      <th>3</th>\n",
       "      <td>LA_T_4451463.png</td>\n",
       "      <td>0</td>\n",
       "    </tr>\n",
       "  </tbody>\n",
       "</table>\n",
       "</div>"
      ],
      "text/plain": [
       "           filename  category\n",
       "0  LA_T_2127844.png         0\n",
       "1  LA_T_3913974.png         0\n",
       "2  LA_T_2528047.png         0\n",
       "3  LA_T_4451463.png         0"
      ]
     },
     "execution_count": 8,
     "metadata": {},
     "output_type": "execute_result"
    }
   ],
   "source": [
    "# Dataframe structure\n",
    "df.head(4)"
   ]
  },
  {
   "cell_type": "code",
   "execution_count": 9,
   "metadata": {
    "scrolled": true
   },
   "outputs": [
    {
     "data": {
      "text/plain": [
       "<matplotlib.axes._subplots.AxesSubplot at 0x268617547b8>"
      ]
     },
     "execution_count": 9,
     "metadata": {},
     "output_type": "execute_result"
    },
    {
     "data": {
      "image/png": "[encoded data removed]",
      "text/plain": [
       "<Figure size 432x288 with 1 Axes>"
      ]
     },
     "metadata": {
      "needs_background": "light"
     },
     "output_type": "display_data"
    }
   ],
   "source": [
    "df['category'].value_counts().plot.bar()"
   ]
  },
  {
   "cell_type": "markdown",
   "metadata": {},
   "source": [
    "## Building the CNN model"
   ]
  },
  {
   "cell_type": "code",
   "execution_count": 10,
   "metadata": {},
   "outputs": [
    {
     "name": "stdout",
     "output_type": "stream",
     "text": [
      "WARNING:tensorflow:From C:\\Users\\Ashish\\Anaconda3\\lib\\site-packages\\tensorflow_core\\python\\ops\\resource_variable_ops.py:1630: calling BaseResourceVariable.__init__ (from tensorflow.python.ops.resource_variable_ops) with constraint is deprecated and will be removed in a future version.\n",
      "Instructions for updating:\n",
      "If using Keras pass *_constraint arguments to layers.\n",
      "WARNING:tensorflow:From C:\\Users\\Ashish\\Anaconda3\\lib\\site-packages\\keras\\backend\\tensorflow_backend.py:4070: The name tf.nn.max_pool is deprecated. Please use tf.nn.max_pool2d instead.\n",
      "\n"
     ]
    }
   ],
   "source": [
    "model = Sequential()\n",
    "\n",
    "model.add(Conv2D(32, (3, 3), activation='relu', input_shape=(IMAGE_WIDTH, IMAGE_HEIGHT, IMAGE_CHANNELS)))\n",
    "model.add(BatchNormalization())\n",
    "model.add(MaxPooling2D(pool_size=(2, 2)))\n",
    "model.add(Dropout(0.25))\n",
    "\n",
    "model.add(Conv2D(64, (3, 3), activation='relu'))\n",
    "model.add(BatchNormalization())\n",
    "model.add(MaxPooling2D(pool_size=(2, 2)))\n",
    "model.add(Dropout(0.25))\n",
    "\n",
    "model.add(Conv2D(128, (3, 3), activation='relu'))\n",
    "model.add(BatchNormalization())\n",
    "model.add(MaxPooling2D(pool_size=(2, 2)))\n",
    "model.add(Dropout(0.25))\n",
    "\n",
    "model.add(Flatten())\n",
    "model.add(Dense(512, activation='relu'))\n",
    "model.add(BatchNormalization())\n",
    "model.add(Dropout(0.5))\n",
    "model.add(Dense(3, activation='softmax'))"
   ]
  },
  {
   "cell_type": "code",
   "execution_count": 11,
   "metadata": {},
   "outputs": [],
   "source": [
    "model.compile(loss='categorical_crossentropy', optimizer='adam', metrics=['accuracy'])"
   ]
  },
  {
   "cell_type": "code",
   "execution_count": 12,
   "metadata": {},
   "outputs": [
    {
     "name": "stdout",
     "output_type": "stream",
     "text": [
      "Model: \"sequential_1\"\n",
      "_________________________________________________________________\n",
      "Layer (type)                 Output Shape              Param #   \n",
      "=================================================================\n",
      "conv2d_1 (Conv2D)            (None, 126, 126, 32)      896       \n",
      "_________________________________________________________________\n",
      "batch_normalization_1 (Batch (None, 126, 126, 32)      128       \n",
      "_________________________________________________________________\n",
      "max_pooling2d_1 (MaxPooling2 (None, 63, 63, 32)        0         \n",
      "_________________________________________________________________\n",
      "dropout_1 (Dropout)          (None, 63, 63, 32)        0         \n",
      "_________________________________________________________________\n",
      "conv2d_2 (Conv2D)            (None, 61, 61, 64)        18496     \n",
      "_________________________________________________________________\n",
      "batch_normalization_2 (Batch (None, 61, 61, 64)        256       \n",
      "_________________________________________________________________\n",
      "max_pooling2d_2 (MaxPooling2 (None, 30, 30, 64)        0         \n",
      "_________________________________________________________________\n",
      "dropout_2 (Dropout)          (None, 30, 30, 64)        0         \n",
      "_________________________________________________________________\n",
      "conv2d_3 (Conv2D)            (None, 28, 28, 128)       73856     \n",
      "_________________________________________________________________\n",
      "batch_normalization_3 (Batch (None, 28, 28, 128)       512       \n",
      "_________________________________________________________________\n",
      "max_pooling2d_3 (MaxPooling2 (None, 14, 14, 128)       0         \n",
      "_________________________________________________________________\n",
      "dropout_3 (Dropout)          (None, 14, 14, 128)       0         \n",
      "_________________________________________________________________\n",
      "flatten_1 (Flatten)          (None, 25088)             0         \n",
      "_________________________________________________________________\n",
      "dense_1 (Dense)              (None, 512)               12845568  \n",
      "_________________________________________________________________\n",
      "batch_normalization_4 (Batch (None, 512)               2048      \n",
      "_________________________________________________________________\n",
      "dropout_4 (Dropout)          (None, 512)               0         \n",
      "_________________________________________________________________\n",
      "dense_2 (Dense)              (None, 3)                 1539      \n",
      "=================================================================\n",
      "Total params: 12,943,299\n",
      "Trainable params: 12,941,827\n",
      "Non-trainable params: 1,472\n",
      "_________________________________________________________________\n"
     ]
    }
   ],
   "source": [
    "model.summary()"
   ]
  },
  {
   "cell_type": "code",
   "execution_count": 13,
   "metadata": {},
   "outputs": [],
   "source": [
    "# To prevent over fitting , stop the learning after 10 epochs and reduce learning rate after two steps\n",
    "earlystop = EarlyStopping(patience=10)\n",
    "learning_rate_reduction = ReduceLROnPlateau(monitor='val_acc', \n",
    "                                            patience=2, \n",
    "                                            verbose=1, \n",
    "                                            factor=0.5, \n",
    "                                            min_lr=0.00001)"
   ]
  },
  {
   "cell_type": "code",
   "execution_count": 14,
   "metadata": {},
   "outputs": [],
   "source": [
    "# Saved callbacks parameters\n",
    "callbacks = [earlystop, learning_rate_reduction]"
   ]
  },
  {
   "cell_type": "code",
   "execution_count": 15,
   "metadata": {},
   "outputs": [],
   "source": [
    "# Replace output label data\n",
    "df[\"category\"] = df[\"category\"].replace({0: 'Real', 1: 'TTS_Spoof', 2: 'VC_Spoof'}) "
   ]
  },
  {
   "cell_type": "code",
   "execution_count": 16,
   "metadata": {},
   "outputs": [],
   "source": [
    "# Data splitting into train and test data and keep this test data aside for model prediction\n",
    "trainData_df, testData_df = train_test_split(df, test_size=0.20, random_state=42)\n",
    "trainData_df = trainData_df.reset_index(drop=True)\n",
    "testData_df = testData_df.reset_index(drop=True)"
   ]
  },
  {
   "cell_type": "code",
   "execution_count": 17,
   "metadata": {},
   "outputs": [],
   "source": [
    "# Again split the above train data into new train dataset (used to train the model ) \n",
    "# and validation set\n",
    "train_df, validate_df = train_test_split(trainData_df, test_size=0.10, random_state=42)\n",
    "train_df = train_df.reset_index(drop=True)\n",
    "validate_df = validate_df.reset_index(drop=True)"
   ]
  },
  {
   "cell_type": "code",
   "execution_count": 18,
   "metadata": {},
   "outputs": [
    {
     "data": {
      "text/plain": [
       "<matplotlib.axes._subplots.AxesSubplot at 0x2687a226c88>"
      ]
     },
     "execution_count": 18,
     "metadata": {},
     "output_type": "execute_result"
    },
    {
     "data": {
      "image/png": "[encoded data removed]",
      "text/plain": [
       "<Figure size 432x288 with 1 Axes>"
      ]
     },
     "metadata": {
      "needs_background": "light"
     },
     "output_type": "display_data"
    }
   ],
   "source": [
    "train_df['category'].value_counts().plot.bar()"
   ]
  },
  {
   "cell_type": "code",
   "execution_count": 19,
   "metadata": {},
   "outputs": [
    {
     "data": {
      "text/plain": [
       "<matplotlib.axes._subplots.AxesSubplot at 0x2687a28f940>"
      ]
     },
     "execution_count": 19,
     "metadata": {},
     "output_type": "execute_result"
    },
    {
     "data": {
      "image/png": "[encoded data removed]",
      "text/plain": [
       "<Figure size 432x288 with 1 Axes>"
      ]
     },
     "metadata": {
      "needs_background": "light"
     },
     "output_type": "display_data"
    }
   ],
   "source": [
    "validate_df['category'].value_counts().plot.bar()"
   ]
  },
  {
   "cell_type": "code",
   "execution_count": 20,
   "metadata": {},
   "outputs": [],
   "source": [
    "total_train = train_df.shape[0]\n",
    "total_validate = validate_df.shape[0]\n",
    "total_test = testData_df.shape[0]\n",
    "batch_size=15"
   ]
  },
  {
   "cell_type": "code",
   "execution_count": 21,
   "metadata": {},
   "outputs": [],
   "source": [
    "# generic image data generator \n",
    "train_datagen = ImageDataGenerator(\n",
    "    rotation_range=15,\n",
    "    rescale=1./255,\n",
    "    shear_range=0.1,\n",
    "    zoom_range=0.2,\n",
    "    horizontal_flip=True,\n",
    "    width_shift_range=0.1,\n",
    "    height_shift_range=0.1\n",
    ")"
   ]
  },
  {
   "cell_type": "code",
   "execution_count": 22,
   "metadata": {},
   "outputs": [
    {
     "name": "stdout",
     "output_type": "stream",
     "text": [
      "Found 15537 validated image filenames belonging to 3 classes.\n"
     ]
    }
   ],
   "source": [
    "# Train image data generator\n",
    "# Create new train folder directory which should have both the images real and fake combined.\n",
    "train_generator = train_datagen.flow_from_dataframe(\n",
    "    train_df, \n",
    "    \"Spectograms\", \n",
    "    x_col='filename',\n",
    "    y_col='category',\n",
    "    seed=30,\n",
    "    target_size=IMAGE_SIZE,\n",
    "    class_mode='categorical',\n",
    "    batch_size=batch_size\n",
    ")"
   ]
  },
  {
   "cell_type": "code",
   "execution_count": 23,
   "metadata": {},
   "outputs": [
    {
     "name": "stdout",
     "output_type": "stream",
     "text": [
      "Found 1727 validated image filenames belonging to 3 classes.\n"
     ]
    }
   ],
   "source": [
    "# Validation image data generator\n",
    "validation_datagen = ImageDataGenerator(rescale=1./255)\n",
    "validation_generator = validation_datagen.flow_from_dataframe(\n",
    "    validate_df, \n",
    "    \"Spectograms\",\n",
    "    x_col='filename',\n",
    "    y_col='category',\n",
    "    seed=30,\n",
    "    target_size=IMAGE_SIZE,\n",
    "    class_mode='categorical',\n",
    "    batch_size=batch_size\n",
    ")"
   ]
  },
  {
   "cell_type": "markdown",
   "metadata": {},
   "source": [
    "# Model Fit"
   ]
  },
  {
   "cell_type": "code",
   "execution_count": 25,
   "metadata": {},
   "outputs": [
    {
     "name": "stdout",
     "output_type": "stream",
     "text": [
      "Epoch 1/50\n",
      "100/100 [==============================] - 146s 1s/step - loss: 0.5603 - accuracy: 0.7687 - val_loss: 0.2290 - val_accuracy: 0.7983\n",
      "Epoch 2/50\n"
     ]
    },
    {
     "name": "stderr",
     "output_type": "stream",
     "text": [
      "C:\\Users\\Ashish\\Anaconda3\\lib\\site-packages\\keras\\callbacks\\callbacks.py:1042: RuntimeWarning: Reduce LR on plateau conditioned on metric `val_acc` which is not available. Available metrics are: val_loss,val_accuracy,loss,accuracy,lr\n",
      "  (self.monitor, ','.join(list(logs.keys()))), RuntimeWarning\n"
     ]
    },
    {
     "name": "stdout",
     "output_type": "stream",
     "text": [
      "100/100 [==============================] - 146s 1s/step - loss: 0.5835 - accuracy: 0.7620 - val_loss: 1.4175 - val_accuracy: 0.3160\n",
      "Epoch 3/50\n",
      "100/100 [==============================] - 146s 1s/step - loss: 0.5154 - accuracy: 0.7967 - val_loss: 7.1957 - val_accuracy: 0.5415\n",
      "Epoch 4/50\n",
      "100/100 [==============================] - 146s 1s/step - loss: 0.5833 - accuracy: 0.7507 - val_loss: 0.5735 - val_accuracy: 0.6028\n",
      "Epoch 5/50\n",
      "100/100 [==============================] - 146s 1s/step - loss: 0.5650 - accuracy: 0.7673 - val_loss: 0.3311 - val_accuracy: 0.8189\n",
      "Epoch 6/50\n",
      "100/100 [==============================] - 145s 1s/step - loss: 0.5591 - accuracy: 0.7802 - val_loss: 0.6956 - val_accuracy: 0.7512\n",
      "Epoch 7/50\n",
      "100/100 [==============================] - 147s 1s/step - loss: 0.5943 - accuracy: 0.7587 - val_loss: 0.3637 - val_accuracy: 0.7634\n",
      "Epoch 8/50\n",
      "100/100 [==============================] - 148s 1s/step - loss: 0.5168 - accuracy: 0.7847 - val_loss: 1.8913 - val_accuracy: 0.5567\n",
      "Epoch 9/50\n",
      "100/100 [==============================] - 148s 1s/step - loss: 0.5383 - accuracy: 0.7847 - val_loss: 0.8575 - val_accuracy: 0.6291\n",
      "Epoch 10/50\n",
      "100/100 [==============================] - 148s 1s/step - loss: 0.4898 - accuracy: 0.8033 - val_loss: 0.3298 - val_accuracy: 0.8557\n",
      "Epoch 11/50\n",
      "100/100 [==============================] - 148s 1s/step - loss: 0.4678 - accuracy: 0.8103 - val_loss: 0.1559 - val_accuracy: 0.8429\n",
      "Epoch 12/50\n",
      "100/100 [==============================] - 148s 1s/step - loss: 0.4865 - accuracy: 0.8087 - val_loss: 0.6476 - val_accuracy: 0.6063\n",
      "Epoch 13/50\n",
      "100/100 [==============================] - 145s 1s/step - loss: 0.5286 - accuracy: 0.7967 - val_loss: 2.2393 - val_accuracy: 0.4539\n",
      "Epoch 14/50\n",
      "100/100 [==============================] - 138s 1s/step - loss: 0.5531 - accuracy: 0.7680 - val_loss: 0.3758 - val_accuracy: 0.8026\n",
      "Epoch 15/50\n",
      "100/100 [==============================] - 97s 970ms/step - loss: 0.5140 - accuracy: 0.7940 - val_loss: 1.0773 - val_accuracy: 0.6706\n",
      "Epoch 16/50\n",
      "100/100 [==============================] - 100s 1000ms/step - loss: 0.4759 - accuracy: 0.8180 - val_loss: 0.4682 - val_accuracy: 0.8604\n",
      "Epoch 17/50\n",
      "100/100 [==============================] - 102s 1s/step - loss: 0.4702 - accuracy: 0.8027 - val_loss: 1.0735 - val_accuracy: 0.6624\n",
      "Epoch 18/50\n",
      "100/100 [==============================] - 102s 1s/step - loss: 0.4894 - accuracy: 0.8027 - val_loss: 0.3298 - val_accuracy: 0.8440\n",
      "Epoch 19/50\n",
      "100/100 [==============================] - 103s 1s/step - loss: 0.4598 - accuracy: 0.8160 - val_loss: 2.0401 - val_accuracy: 0.4486\n",
      "Epoch 20/50\n",
      "100/100 [==============================] - 102s 1s/step - loss: 0.4619 - accuracy: 0.8227 - val_loss: 1.2208 - val_accuracy: 0.6980\n",
      "Epoch 21/50\n",
      "100/100 [==============================] - 102s 1s/step - loss: 0.4454 - accuracy: 0.8147 - val_loss: 0.5975 - val_accuracy: 0.7798\n"
     ]
    }
   ],
   "source": [
    "epochs=5 if FAST_RUN else 50\n",
    "history = model.fit_generator(\n",
    "    train_generator, \n",
    "    epochs=epochs,\n",
    "    validation_data=validation_generator,\n",
    "    validation_steps=total_validate//batch_size,\n",
    "    steps_per_epoch= 100, #total_train//batch_size, \n",
    "    #[Originally steps per epoch should be total_train//batch_size but for now lets try with 50]\n",
    "    callbacks=callbacks   \n",
    ")"
   ]
  },
  {
   "cell_type": "markdown",
   "metadata": {},
   "source": [
    "# Visualization"
   ]
  },
  {
   "cell_type": "code",
   "execution_count": 51,
   "metadata": {},
   "outputs": [
    {
     "data": {
      "image/png": "[encoded data removed]",
      "text/plain": [
       "<Figure size 432x288 with 1 Axes>"
      ]
     },
     "metadata": {
      "needs_background": "light"
     },
     "output_type": "display_data"
    },
    {
     "data": {
      "image/png": "[encoded data removed]",
      "text/plain": [
       "<Figure size 432x288 with 1 Axes>"
      ]
     },
     "metadata": {
      "needs_background": "light"
     },
     "output_type": "display_data"
    },
    {
     "data": {
      "image/png": "[encoded data removed]",
      "text/plain": [
       "<Figure size 432x288 with 1 Axes>"
      ]
     },
     "metadata": {
      "needs_background": "light"
     },
     "output_type": "display_data"
    },
    {
     "data": {
      "image/png": "[encoded data removed]",
      "text/plain": [
       "<Figure size 432x288 with 1 Axes>"
      ]
     },
     "metadata": {
      "needs_background": "light"
     },
     "output_type": "display_data"
    }
   ],
   "source": [
    "def visualize(loss, val_loss):\n",
    "    '''\n",
    "    Plots a graph for training and validation loss and accuracy\n",
    "    '''\n",
    "    epochs = range(1,len(loss)+1)\n",
    "\n",
    "    plt.figure()\n",
    "    plt.plot(epochs,loss,'rv',label='Training loss')\n",
    "    plt.plot(epochs,val_loss,'g',label='Validation loss')\n",
    "    plt.title('Training and Validation loss')\n",
    "    plt.xlabel('Epochs')\n",
    "    plt.ylabel('Loss')\n",
    "    plt.legend()\n",
    "    plt.show()\n",
    "\n",
    "def visualize1(loss):\n",
    "    '''\n",
    "    Plots a graph for training loss and accuracy\n",
    "    '''\n",
    "    epochs = range(1,len(loss)+1)\n",
    "\n",
    "    plt.figure()\n",
    "    plt.plot(epochs,loss,label='Training loss')\n",
    "    plt.title('Training loss')\n",
    "    plt.xlabel('Epochs')\n",
    "    plt.ylabel('Loss')\n",
    "    plt.legend()\n",
    "    plt.show()\n",
    "\n",
    "def visualize2(accuracy):\n",
    "    '''\n",
    "    Plots a graph for accuracy\n",
    "    '''\n",
    "    epochs = range(1,len(accuracy)+1)\n",
    "    plt.figure()\n",
    "    plt.plot(epochs,accuracy,label='Accuracy')\n",
    "    plt.title('Training Accuracy')\n",
    "    plt.xlabel('Epochs')\n",
    "    plt.ylabel('Accuracy')\n",
    "    plt.legend()\n",
    "    plt.show()\n",
    "\n",
    "def visualize3(val_accuracy):\n",
    "    '''\n",
    "    Plots a graph for val accuracy\n",
    "    '''\n",
    "    epochs = range(1,len(val_accuracy)+1)\n",
    "    plt.figure()\n",
    "    plt.plot(epochs,val_accuracy,'g', label='Val Accuracy')\n",
    "    plt.title('Validation Accuracy')\n",
    "    plt.xlabel('Epochs')\n",
    "    plt.ylabel('Validation accuracy')\n",
    "    plt.legend()\n",
    "    plt.show()\n",
    "\n",
    "visualize(history.history['loss'], history.history['val_loss'])\n",
    "visualize1(history.history['loss'])\n",
    "visualize2(history.history['accuracy'])\n",
    "visualize3(history.history['val_accuracy'])"
   ]
  },
  {
   "cell_type": "code",
   "execution_count": 29,
   "metadata": {},
   "outputs": [
    {
     "name": "stdout",
     "output_type": "stream",
     "text": [
      "Found 4316 validated image filenames belonging to 3 classes.\n"
     ]
    }
   ],
   "source": [
    "# Used above created test dataset for test image data generator\n",
    "test_datagen = ImageDataGenerator(rescale=1./255)\n",
    "test_generator = test_datagen.flow_from_dataframe(\n",
    "    testData_df, \n",
    "    \"Spectograms\",\n",
    "    x_col='filename',\n",
    "    y_col='category',\n",
    "    seed=30,\n",
    "    target_size=IMAGE_SIZE,\n",
    "    class_mode='categorical',\n",
    "    batch_size=batch_size\n",
    ")"
   ]
  },
  {
   "cell_type": "markdown",
   "metadata": {},
   "source": [
    "# Model Prediction"
   ]
  },
  {
   "cell_type": "code",
   "execution_count": 30,
   "metadata": {},
   "outputs": [
    {
     "name": "stdout",
     "output_type": "stream",
     "text": [
      "288/288 [==============================] - 91s 316ms/step\n"
     ]
    }
   ],
   "source": [
    "predict = model.predict_generator(test_generator, steps=np.ceil(total_test/batch_size), verbose= 1)"
   ]
  },
  {
   "cell_type": "code",
   "execution_count": 31,
   "metadata": {},
   "outputs": [],
   "source": [
    "testData_df['Pred_category'] = np.argmax(predict, axis=1)"
   ]
  },
  {
   "cell_type": "code",
   "execution_count": 32,
   "metadata": {},
   "outputs": [],
   "source": [
    "label_map = dict((v,k) for k,v in train_generator.class_indices.items())\n",
    "testData_df['Pred_category'] = testData_df['Pred_category'].replace(label_map)"
   ]
  },
  {
   "cell_type": "code",
   "execution_count": 69,
   "metadata": {},
   "outputs": [
    {
     "data": {
      "text/plain": [
       "<Figure size 432x288 with 0 Axes>"
      ]
     },
     "metadata": {},
     "output_type": "display_data"
    },
    {
     "data": {
      "image/png": "[encoded data removed]",
      "text/plain": [
       "<Figure size 432x288 with 1 Axes>"
      ]
     },
     "metadata": {
      "needs_background": "light"
     },
     "output_type": "display_data"
    },
    {
     "data": {
      "image/png": "[encoded data removed]",
      "text/plain": [
       "<Figure size 432x288 with 1 Axes>"
      ]
     },
     "metadata": {
      "needs_background": "light"
     },
     "output_type": "display_data"
    }
   ],
   "source": [
    "plt.figure()\n",
    "plt.subplots(1,1)\n",
    "testData_df['category'].value_counts().plot.bar()\n",
    "plt.subplots(1,1)\n",
    "testData_df['Pred_category'].value_counts().plot.bar()\n",
    "plt.show()"
   ]
  },
  {
   "cell_type": "code",
   "execution_count": 34,
   "metadata": {},
   "outputs": [
    {
     "data": {
      "text/plain": [
       "TTS_Spoof    2295\n",
       "VC_Spoof     1552\n",
       "Real          469\n",
       "Name: category, dtype: int64"
      ]
     },
     "execution_count": 34,
     "metadata": {},
     "output_type": "execute_result"
    }
   ],
   "source": [
    "testData_df['category'].value_counts()"
   ]
  },
  {
   "cell_type": "code",
   "execution_count": 35,
   "metadata": {},
   "outputs": [
    {
     "data": {
      "text/plain": [
       "TTS_Spoof    2456\n",
       "VC_Spoof     1844\n",
       "Real           16\n",
       "Name: Pred_category, dtype: int64"
      ]
     },
     "execution_count": 35,
     "metadata": {},
     "output_type": "execute_result"
    }
   ],
   "source": [
    "testData_df['Pred_category'].value_counts()"
   ]
  },
  {
   "cell_type": "code",
   "execution_count": null,
   "metadata": {},
   "outputs": [],
   "source": [
    "print('Prediction Accuracy =',metrics.accuracy_score(testData_df['category'], testData_df['Pred_category']))"
   ]
  }
 ],
 "metadata": {
  "kernelspec": {
   "display_name": "Python 3",
   "language": "python",
   "name": "python3"
  },
  "language_info": {
   "codemirror_mode": {
    "name": "ipython",
    "version": 3
   },
   "file_extension": ".py",
   "mimetype": "text/x-python",
   "name": "python",
   "nbconvert_exporter": "python",
   "pygments_lexer": "ipython3",
   "version": "3.7.3"
  }
 },
 "nbformat": 4,
 "nbformat_minor": 2
}
